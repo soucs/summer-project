{
  "nbformat": 4,
  "nbformat_minor": 0,
  "metadata": {
    "colab": {
      "provenance": [],
      "authorship_tag": "ABX9TyNQzfVwGakkJbwEW+rVvLP9",
      "include_colab_link": true
    },
    "kernelspec": {
      "name": "python3",
      "display_name": "Python 3"
    },
    "language_info": {
      "name": "python"
    }
  },
  "cells": [
    {
      "cell_type": "markdown",
      "metadata": {
        "id": "view-in-github",
        "colab_type": "text"
      },
      "source": [
        "<a href=\"https://colab.research.google.com/github/soucs/summer-project/blob/main/project_code.ipynb\" target=\"_parent\"><img src=\"https://colab.research.google.com/assets/colab-badge.svg\" alt=\"Open In Colab\"/></a>"
      ]
    },
    {
      "cell_type": "markdown",
      "source": [
        "# Wasserstein Distance on Iris Dataset\n",
        "\n",
        "#### Steps:\n",
        "* Divide data of each class into 2 parts\n",
        "* Construct multinorm distn function for each part. So total 3classes*2parts = 6 distributions. Compute pmf for each.\n",
        "* Find distance between each pairts of distributions (pmfs)"
      ],
      "metadata": {
        "id": "OhgMhYw0yMOO"
      }
    },
    {
      "cell_type": "code",
      "source": [
        "!pip install POT\n",
        "from tensorflow.python.ops.numpy_ops import np_config\n",
        "np_config.enable_numpy_behavior()\n",
        "from ot import sinkhorn"
      ],
      "metadata": {
        "colab": {
          "base_uri": "https://localhost:8080/"
        },
        "id": "pZg41gMQnogy",
        "outputId": "fd2dd374-e1e7-4aa1-9998-47c8babe4ee1"
      },
      "execution_count": null,
      "outputs": [
        {
          "output_type": "stream",
          "name": "stdout",
          "text": [
            "Collecting POT\n",
            "  Downloading POT-0.9.1-cp310-cp310-manylinux_2_17_x86_64.manylinux2014_x86_64.whl (789 kB)\n",
            "\u001b[2K     \u001b[90m━━━━━━━━━━━━━━━━━━━━━━━━━━━━━━━━━━━━━━━\u001b[0m \u001b[32m790.0/790.0 kB\u001b[0m \u001b[31m6.0 MB/s\u001b[0m eta \u001b[36m0:00:00\u001b[0m\n",
            "\u001b[?25hRequirement already satisfied: numpy>=1.16 in /usr/local/lib/python3.10/dist-packages (from POT) (1.23.5)\n",
            "Requirement already satisfied: scipy>=1.0 in /usr/local/lib/python3.10/dist-packages (from POT) (1.10.1)\n",
            "Installing collected packages: POT\n",
            "Successfully installed POT-0.9.1\n"
          ]
        },
        {
          "output_type": "stream",
          "name": "stderr",
          "text": [
            "WARNING:jax._src.xla_bridge:No GPU/TPU found, falling back to CPU. (Set TF_CPP_MIN_LOG_LEVEL=0 and rerun for more info.)\n"
          ]
        }
      ]
    },
    {
      "cell_type": "code",
      "source": [
        "import numpy as np\n",
        "from scipy import stats\n",
        "from torch import tensor, softmax\n",
        "\n",
        "from sklearn.model_selection import train_test_split\n",
        "from sklearn import datasets\n",
        "iris = datasets.load_iris()"
      ],
      "metadata": {
        "id": "632c4hx44Fmb"
      },
      "execution_count": null,
      "outputs": []
    },
    {
      "cell_type": "code",
      "source": [
        "X = iris['data']\n",
        "y = iris['target']\n",
        "target_names = iris['target_names']\n",
        "feature_names = iris['feature_names']"
      ],
      "metadata": {
        "id": "IBSWZhPC4Fmc"
      },
      "execution_count": null,
      "outputs": []
    },
    {
      "cell_type": "code",
      "source": [
        "target_names"
      ],
      "metadata": {
        "colab": {
          "base_uri": "https://localhost:8080/"
        },
        "id": "D97th7FR-BzL",
        "outputId": "bf826772-31eb-4c77-9bf3-ba6d3123cc59"
      },
      "execution_count": null,
      "outputs": [
        {
          "output_type": "execute_result",
          "data": {
            "text/plain": [
              "array(['setosa', 'versicolor', 'virginica'], dtype='<U10')"
            ]
          },
          "metadata": {},
          "execution_count": 11
        }
      ]
    },
    {
      "cell_type": "code",
      "source": [
        "X0 = X[np.where(y==0)]\n",
        "X1 = X[np.where(y==1)]\n",
        "X2 = X[np.where(y==2)]\n",
        "\n",
        "X0_u, X0_v = train_test_split(X0, test_size=0.5)\n",
        "X1_u, X1_v = train_test_split(X1, test_size=0.5)\n",
        "X2_u, X2_v = train_test_split(X2, test_size=0.5)"
      ],
      "metadata": {
        "id": "agtUutT54JG1"
      },
      "execution_count": null,
      "outputs": []
    },
    {
      "cell_type": "code",
      "source": [
        "# Get distribution\n",
        "def get_pmf(X):\n",
        "  # Find mean and cov of data\n",
        "  m = np.mean(X,axis=0)\n",
        "  cov = np.cov(X.T)\n",
        "  # Construct multinormal distribution with m and cov\n",
        "  distn = stats.multivariate_normal(m,cov)\n",
        "  # Calculate likelood and softmax to get pmf\n",
        "  likelihood = tensor(distn.pdf(X))\n",
        "  pmf = softmax(likelihood,dim=0)\n",
        "  return pmf.numpy()\n",
        "\n",
        "# Distance matrix by taking norm of differences\n",
        "def get_cost_matrix(X,Y):\n",
        "  cost = X[:,None] - Y[None,:]\n",
        "  cost = np.linalg.norm(cost,axis=2)\n",
        "  return cost\n",
        "\n",
        "# Computing opt. coupling and wasserstein distance\n",
        "# using sinkhorn algorithm\n",
        "def sinkhorn_distance(X,Y,X_pmf,Y_pmf,reg=1e-1):\n",
        "  cost = get_cost_matrix(X,Y)\n",
        "  coupling = sinkhorn(X_pmf,Y_pmf,cost,reg)\n",
        "  distance = np.sum(np.multiply(cost,coupling))\n",
        "  return distance"
      ],
      "metadata": {
        "id": "QYsED3kFkPHi"
      },
      "execution_count": null,
      "outputs": []
    },
    {
      "cell_type": "code",
      "source": [
        "# Construct pmf for input\n",
        "X0u_pmf = get_pmf(X0_u)\n",
        "X0v_pmf = get_pmf(X0_v)\n",
        "X1u_pmf = get_pmf(X1_u)\n",
        "X1v_pmf = get_pmf(X1_v)\n",
        "X2u_pmf = get_pmf(X2_u)\n",
        "X2v_pmf = get_pmf(X2_v)"
      ],
      "metadata": {
        "id": "8NnOuwCOnDmO"
      },
      "execution_count": null,
      "outputs": []
    },
    {
      "cell_type": "code",
      "source": [
        "# Calculate distance b/w diff pairs of distributions\n",
        "dist0u0v = sinkhorn_distance(X0_u, X0_v, X0u_pmf, X0v_pmf)\n",
        "dist0u1u = sinkhorn_distance(X0_u, X1_u, X0u_pmf, X1u_pmf)\n",
        "dist0u1v = sinkhorn_distance(X0_u, X1_v, X0u_pmf, X1v_pmf)\n",
        "dist0u2u = sinkhorn_distance(X0_u, X2_u, X0u_pmf, X2u_pmf)\n",
        "dist0u2v = sinkhorn_distance(X0_u, X2_v, X0u_pmf, X2v_pmf)\n",
        "dist1u1v = sinkhorn_distance(X1_u, X1_v, X1u_pmf, X1v_pmf)\n",
        "dist1u2u = sinkhorn_distance(X1_u, X2_u, X1u_pmf, X2u_pmf)\n",
        "dist1u2v = sinkhorn_distance(X1_u, X2_v, X1u_pmf, X2v_pmf)\n",
        "dist2u2v = sinkhorn_distance(X2_u, X2_v, X2u_pmf, X2v_pmf)"
      ],
      "metadata": {
        "id": "UBGzuZVbpXVf"
      },
      "execution_count": null,
      "outputs": []
    },
    {
      "cell_type": "code",
      "source": [
        "# Distance b/w distributions of same class\n",
        "dist0u0v, dist1u1v, dist2u2v"
      ],
      "metadata": {
        "colab": {
          "base_uri": "https://localhost:8080/"
        },
        "id": "6i80Eys3v-9d",
        "outputId": "bb58919f-94d1-4083-9722-727c16f6be2b"
      },
      "execution_count": null,
      "outputs": [
        {
          "output_type": "execute_result",
          "data": {
            "text/plain": [
              "(0.22106512926912397, 0.46151421132842396, 0.546816238243939)"
            ]
          },
          "metadata": {},
          "execution_count": 55
        }
      ]
    },
    {
      "cell_type": "code",
      "source": [
        "# Distance b/w 0&1 and 0&2\n",
        "dist0u1u, dist0u1v, dist0u2u, dist0u2v"
      ],
      "metadata": {
        "colab": {
          "base_uri": "https://localhost:8080/"
        },
        "id": "j1z6tOcluAbR",
        "outputId": "7100717e-2590-4bdf-8966-1880f24c0a0b"
      },
      "execution_count": null,
      "outputs": [
        {
          "output_type": "execute_result",
          "data": {
            "text/plain": [
              "(3.030976488616381, 3.233723180191922, 3.2287649156292395, 2.9454820447009733)"
            ]
          },
          "metadata": {},
          "execution_count": 59
        }
      ]
    },
    {
      "cell_type": "code",
      "source": [
        "# Distance b/w 1&2\n",
        "dist1u2u, dist1u2v"
      ],
      "metadata": {
        "colab": {
          "base_uri": "https://localhost:8080/"
        },
        "id": "fZxdfXYsvsUr",
        "outputId": "1dd79169-98ed-48d0-c5f6-e813299f1a61"
      },
      "execution_count": null,
      "outputs": [
        {
          "output_type": "execute_result",
          "data": {
            "text/plain": [
              "(0.42598641734209935, 0.19413858495364011)"
            ]
          },
          "metadata": {},
          "execution_count": 60
        }
      ]
    },
    {
      "cell_type": "markdown",
      "source": [
        "* Finding the distances between distributions of class pairs:"
      ],
      "metadata": {
        "id": "-0Z3Y6dTJ56w"
      }
    },
    {
      "cell_type": "code",
      "source": [
        "X0_pmf = get_pmf(X0)\n",
        "X1_pmf = get_pmf(X1)\n",
        "X2_pmf = get_pmf(X2)\n",
        "dist01 = sinkhorn_distance(X0, X1, X0_pmf, X1_pmf)\n",
        "dist02 = sinkhorn_distance(X0, X2, X0_pmf, X2_pmf)\n",
        "dist12 = sinkhorn_distance(X1, X2, X1_pmf, X2_pmf)\n",
        "dist01, dist02, dist12"
      ],
      "metadata": {
        "colab": {
          "base_uri": "https://localhost:8080/"
        },
        "id": "scc9BAdx9TA0",
        "outputId": "5539c08a-4807-46ac-efea-4a6800988581"
      },
      "execution_count": null,
      "outputs": [
        {
          "output_type": "execute_result",
          "data": {
            "text/plain": [
              "(3.1259260108933793, 4.7689344259130975, 1.7804683323667352)"
            ]
          },
          "metadata": {},
          "execution_count": 10
        }
      ]
    },
    {
      "cell_type": "markdown",
      "source": [
        "# On MNIST Digits Dataset"
      ],
      "metadata": {
        "id": "Ju9qxvR-zDz1"
      }
    },
    {
      "cell_type": "code",
      "source": [
        "!pip install POT\n",
        "from tensorflow.python.ops.numpy_ops import np_config\n",
        "np_config.enable_numpy_behavior()\n",
        "from ot import sinkhorn"
      ],
      "metadata": {
        "colab": {
          "base_uri": "https://localhost:8080/"
        },
        "outputId": "0629bd78-60f2-4959-af3f-44853fa32ba2",
        "id": "Dkn000cczexE"
      },
      "execution_count": null,
      "outputs": [
        {
          "output_type": "stream",
          "name": "stdout",
          "text": [
            "Requirement already satisfied: POT in /usr/local/lib/python3.10/dist-packages (0.9.1)\n",
            "Requirement already satisfied: numpy>=1.16 in /usr/local/lib/python3.10/dist-packages (from POT) (1.23.5)\n",
            "Requirement already satisfied: scipy>=1.0 in /usr/local/lib/python3.10/dist-packages (from POT) (1.10.1)\n"
          ]
        }
      ]
    },
    {
      "cell_type": "code",
      "source": [
        "import numpy as np\n",
        "from scipy import stats\n",
        "from torch import tensor, softmax\n",
        "\n",
        "from sklearn.model_selection import train_test_split"
      ],
      "metadata": {
        "id": "rL08AbV8zexF"
      },
      "execution_count": null,
      "outputs": []
    },
    {
      "cell_type": "code",
      "source": [
        "mnist_train = np.loadtxt('/content/sample_data/mnist_train_small.csv', delimiter=',') #(20000, 785)\n",
        "mnist_test = np.loadtxt('/content/sample_data/mnist_test.csv', delimiter=',') #(10000, 785)"
      ],
      "metadata": {
        "id": "g63Sh5HYzdx4"
      },
      "execution_count": null,
      "outputs": []
    },
    {
      "cell_type": "code",
      "source": [
        "X = mnist_train[:,1:]\n",
        "Y = mnist_test[:,1:]\n",
        "\n",
        "X1 = X[np.where(mnist_train[:,0]==1)]\n",
        "Y1 = Y[np.where(mnist_test[:,0]==1)]\n",
        "\n",
        "X3 = X[np.where(mnist_train[:,0]==3)]\n",
        "Y3 = Y[np.where(mnist_test[:,0]==3)]"
      ],
      "metadata": {
        "id": "VghFaIcszDW4"
      },
      "execution_count": null,
      "outputs": []
    },
    {
      "cell_type": "code",
      "source": [
        "# Get distribution\n",
        "def get_pmf(X):\n",
        "  # Find mean and cov of data\n",
        "  m = np.mean(X,axis=0)\n",
        "  cov = np.cov(X.T)\n",
        "  # Construct multinormal distribution with m and cov\n",
        "  distn = stats.multivariate_normal(m,cov, allow_singular=True)\n",
        "  # Calculate likelood and softmax to get pmf\n",
        "  likelihood = tensor(distn.pdf(X))\n",
        "  pmf = softmax(likelihood,dim=0)\n",
        "  return pmf.numpy()\n",
        "\n",
        "# Distance matrix by taking norm of differences\n",
        "def get_cost_matrix(X,Y):\n",
        "  cost = X[:,None] - Y[None,:]\n",
        "  cost = np.linalg.norm(cost,axis=2)\n",
        "  return cost\n",
        "\n",
        "# Computing opt. coupling and wasserstein distance\n",
        "# using sinkhorn algorithm\n",
        "def sinkhorn_distance(X,Y,X_pmf,Y_pmf,reg=1e-1,numItermax=10):\n",
        "  cost = get_cost_matrix(X,Y)\n",
        "  coupling = sinkhorn(X_pmf,Y_pmf,cost,reg)\n",
        "  distance = np.sum(np.multiply(cost,coupling))\n",
        "  return distance"
      ],
      "metadata": {
        "id": "VPQF2jze1C2e"
      },
      "execution_count": null,
      "outputs": []
    },
    {
      "cell_type": "markdown",
      "source": [
        "## **Crashing! (RAM Overload)**"
      ],
      "metadata": {
        "id": "dpsNh6hj7Eb5"
      }
    },
    {
      "cell_type": "code",
      "source": [
        "# Construct pmf for input\n",
        "X1_pmf = get_pmf(X1)\n",
        "Y1_pmf = get_pmf(Y1)\n",
        "\n",
        "X3_pmf = get_pmf(X3)\n",
        "Y3_pmf = get_pmf(Y3)\n",
        "\n",
        "# Calc distance\n",
        "distX1Y1 = sinkhorn_distance(X1, Y1, X1_pmf, Y1_pmf)\n",
        "distX3Y3 = sinkhorn_distance(X3, Y3, X3_pmf, Y3_pmf)\n",
        "\n",
        "distX1X3 = sinkhorn_distance(X1, X3, X1_pmf, X3_pmf)\n",
        "distX1Y3 = sinkhorn_distance(X1, Y3, X1_pmf, Y3_pmf)\n",
        "\n",
        "distY1X3 = sinkhorn_distance(Y1, X3, Y1_pmf, X3_pmf)\n",
        "distY1Y3 = sinkhorn_distance(Y1, Y3, Y1_pmf, Y3_pmf)"
      ],
      "metadata": {
        "id": "lI0ZLUPx1Ls_"
      },
      "execution_count": null,
      "outputs": []
    },
    {
      "cell_type": "markdown",
      "source": [
        "# Wasserstein Distance on distribution of Markov Process"
      ],
      "metadata": {
        "id": "iEMZElgwKFOR"
      }
    },
    {
      "cell_type": "code",
      "source": [
        "!pip install POT\n",
        "from tensorflow.python.ops.numpy_ops import np_config\n",
        "np_config.enable_numpy_behavior()\n",
        "from ot import sinkhorn\n",
        "import numpy as np"
      ],
      "metadata": {
        "id": "jIg0plkpFEi5",
        "colab": {
          "base_uri": "https://localhost:8080/"
        },
        "outputId": "67961e4b-947b-42ba-95a8-8efc42cfd642"
      },
      "execution_count": null,
      "outputs": [
        {
          "output_type": "stream",
          "name": "stdout",
          "text": [
            "Collecting POT\n",
            "  Downloading POT-0.9.1-cp310-cp310-manylinux_2_17_x86_64.manylinux2014_x86_64.whl (789 kB)\n",
            "\u001b[2K     \u001b[90m━━━━━━━━━━━━━━━━━━━━━━━━━━━━━━━━━━━━━━━\u001b[0m \u001b[32m790.0/790.0 kB\u001b[0m \u001b[31m6.5 MB/s\u001b[0m eta \u001b[36m0:00:00\u001b[0m\n",
            "\u001b[?25hRequirement already satisfied: numpy>=1.16 in /usr/local/lib/python3.10/dist-packages (from POT) (1.23.5)\n",
            "Requirement already satisfied: scipy>=1.0 in /usr/local/lib/python3.10/dist-packages (from POT) (1.10.1)\n",
            "Installing collected packages: POT\n",
            "Successfully installed POT-0.9.1\n"
          ]
        },
        {
          "output_type": "stream",
          "name": "stderr",
          "text": [
            "WARNING:jax._src.xla_bridge:No GPU/TPU found, falling back to CPU. (Set TF_CPP_MIN_LOG_LEVEL=0 and rerun for more info.)\n"
          ]
        }
      ]
    },
    {
      "cell_type": "code",
      "source": [
        "class MarkovProcess:\n",
        "  def __init__(self,transition,initial,sample_space):\n",
        "    self.transition = transition\n",
        "    self.initial = initial\n",
        "    self.sample_space = sample_space\n",
        "  # Distribution at time t\n",
        "  def get_distribution(self,t):\n",
        "    if t<0:\n",
        "      raise Exception(\"Sorry, no time below zero\")\n",
        "    else:\n",
        "      return self.initial @ np.linalg.matrix_power(self.transition,t)\n",
        "  # Generate a sample of process till time t\n",
        "  def sample(self,t):\n",
        "    if t<0:\n",
        "      raise Exception(\"Sorry, no time below zero\")\n",
        "    else:\n",
        "      chain = [np.random.choice(self.sample_space, p=self.get_distribution(ti)) for ti in range(t)]\n",
        "      return chain\n",
        "  # Generate N samples of process till time t\n",
        "  def gen_samples(self,t,N):\n",
        "    if t<0 or N<1:\n",
        "      raise Exception(\"Give valid (int) inputs\")\n",
        "    else:\n",
        "      samples = np.empty((N,t))\n",
        "      for i in range(N):\n",
        "        samples[i] = self.sample(t)\n",
        "      return samples\n",
        "  # Get prob of occurence of given sample\n",
        "  def get_samp_prob(self,sample):\n",
        "    p = 1\n",
        "    for t,xt in enumerate(sample):\n",
        "      xt_idx = np.where(self.sample_space==xt)\n",
        "      pt = self.get_distribution(t)[xt_idx]\n",
        "      p *= pt[0]\n",
        "    return p"
      ],
      "metadata": {
        "id": "vq8VbS4EkncO"
      },
      "execution_count": null,
      "outputs": []
    },
    {
      "cell_type": "code",
      "source": [
        "# Fnc to get empirical distribution from samples\n",
        "def get_emp_distn(samples):\n",
        "  N = samples.shape[0]\n",
        "  X = np.unique(samples,axis=0)\n",
        "  prob = np.empty(X.shape[0])\n",
        "  for i in range(X.shape[0]):\n",
        "    count = (samples==X[i]).all(axis=1).sum()\n",
        "    prob[i] = count/N\n",
        "  return X, prob\n",
        "\n",
        "# Fnc to get true distribution of process\n",
        "def get_true_distn(mp,t):\n",
        "  ss = mp.sample_space\n",
        "  tiled_ss = tuple(np.tile(ss,t).reshape(t,ss.shape[0]))\n",
        "  ss_t = np.array(np.meshgrid(*tiled_ss)).T.reshape(-1,t)\n",
        "  prob = np.empty(ss_t.shape[0])\n",
        "  for i in range(ss_t.shape[0]):\n",
        "    prob[i] = mp.get_samp_prob(ss_t[i])\n",
        "  return ss_t, prob"
      ],
      "metadata": {
        "id": "xGNKZnKFiUhs"
      },
      "execution_count": null,
      "outputs": []
    },
    {
      "cell_type": "code",
      "source": [
        "samp_space = np.array([0,1])\n",
        "pi_0 = np.array([0.4,0.6])\n",
        "P = np.array([[0.3,0.7],[0.5,0.5]])\n",
        "t = 5\n",
        "\n",
        "# Create markov process\n",
        "mp = MarkovProcess(P, pi_0, samp_space)\n",
        "\n",
        "# Generate samples\n",
        "samples = mp.gen_samples(t,100)\n",
        "\n",
        "# Empirical distribution of samples (ED1)\n",
        "X, p_emp = get_emp_distn(samples)\n",
        "\n",
        "# True distribution (MP1)\n",
        "S, p_true = get_true_distn(mp,t)"
      ],
      "metadata": {
        "id": "Pik_833Nf5Nw"
      },
      "execution_count": null,
      "outputs": []
    },
    {
      "cell_type": "code",
      "source": [
        "# Distance matrix by taking norm of differences\n",
        "def get_cost_matrix(X,Y):\n",
        "  cost = X[:,None] - Y[None,:]\n",
        "  cost = np.linalg.norm(cost,axis=2)\n",
        "  return cost\n",
        "\n",
        "# Computing opt. coupling and wasserstein distance\n",
        "# using sinkhorn algorithm\n",
        "def sinkhorn_distance(X,Y,X_pmf,Y_pmf,reg=1e-1):\n",
        "  cost = get_cost_matrix(X,Y)\n",
        "  coupling = sinkhorn(X_pmf,Y_pmf,cost,reg)\n",
        "  distance = np.sum(np.multiply(cost,coupling))\n",
        "  return distance"
      ],
      "metadata": {
        "id": "TqQ9l6H1pAXF"
      },
      "execution_count": null,
      "outputs": []
    },
    {
      "cell_type": "code",
      "source": [
        "# Distance between empirical distribution and true distribution\n",
        "c = get_cost_matrix(X,S)\n",
        "dist = sinkhorn_distance(X,S,p_emp,p_true)\n",
        "print(f'Distance between MP1 and ED1: {dist}')"
      ],
      "metadata": {
        "colab": {
          "base_uri": "https://localhost:8080/"
        },
        "id": "fpzas01TpDC-",
        "outputId": "afb0a7b7-2493-4cb8-f0a9-941c4f1c3046"
      },
      "execution_count": null,
      "outputs": [
        {
          "output_type": "stream",
          "name": "stdout",
          "text": [
            "Distance between MP1 and ED1: 0.21372109819082177\n"
          ]
        }
      ]
    },
    {
      "cell_type": "code",
      "source": [
        "# Defining a second Markov Process (MP2)\n",
        "samp_space = np.array([0,1])\n",
        "pi_0 = np.array([0.1,0.9])\n",
        "P = np.array([[0.1,0.9],[0.9,0.1]])\n",
        "t = 5\n",
        "\n",
        "# Create markov process\n",
        "mp2 = MarkovProcess(P, pi_0, samp_space)\n",
        "S2, S2_true = get_true_distn(mp2,t)\n",
        "\n",
        "c2 = get_cost_matrix(S,S2)\n",
        "dist2 = sinkhorn_distance(S,S2,p_true, S2_true)\n",
        "dist3 = sinkhorn_distance(X,S2,p_emp, S2_true)\n",
        "print(f'Distance between MP1 and MP2: {dist2}')\n",
        "print(f'Distance between MP2 and ED1: {dist3}')"
      ],
      "metadata": {
        "colab": {
          "base_uri": "https://localhost:8080/"
        },
        "id": "3_ceT-ywpeKD",
        "outputId": "ae875baa-eb1f-4458-f85a-dd605f6f340d"
      },
      "execution_count": null,
      "outputs": [
        {
          "output_type": "stream",
          "name": "stdout",
          "text": [
            "Distance between MP1 and MP2: 0.7823657962488051\n",
            "Distance between MP2 and ED1: 0.8244211012181633\n"
          ]
        }
      ]
    },
    {
      "cell_type": "code",
      "source": [],
      "metadata": {
        "id": "myaITlcWL9Qk"
      },
      "execution_count": null,
      "outputs": []
    }
  ]
}